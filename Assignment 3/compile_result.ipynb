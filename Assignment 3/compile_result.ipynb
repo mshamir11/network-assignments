{
 "metadata": {
  "language_info": {
   "codemirror_mode": {
    "name": "ipython",
    "version": 3
   },
   "file_extension": ".py",
   "mimetype": "text/x-python",
   "name": "python",
   "nbconvert_exporter": "python",
   "pygments_lexer": "ipython3",
   "version": "3.6.12-final"
  },
  "orig_nbformat": 2,
  "kernelspec": {
   "name": "nlp_conda",
   "display_name": "nlp_conda"
  }
 },
 "nbformat": 4,
 "nbformat_minor": 2,
 "cells": [
  {
   "source": [
    ">## Results of 3D"
   ],
   "cell_type": "markdown",
   "metadata": {}
  },
  {
   "cell_type": "code",
   "execution_count": 12,
   "metadata": {},
   "outputs": [],
   "source": [
    "import pandas as pd\n",
    "import os\n",
    "import numpy as np"
   ]
  },
  {
   "cell_type": "code",
   "execution_count": 115,
   "metadata": {},
   "outputs": [
    {
     "output_type": "stream",
     "name": "stdout",
     "text": [
      "['tcp_results_withoutNagle_OnlyOnClient.json', 'tcp_results_withoutNagle_OnlyOnServer.json', 'tcp_results_without_delayedAck_OnBoth.json', 'tcp_results_with_Nagle.json']\n"
     ]
    }
   ],
   "source": [
    "directory =\"./3D/results/\" \n",
    "files = os.listdir(directory)\n",
    "df_total =[]\n",
    "print(files)\n",
    "df = None\n",
    "for i,item in enumerate(files):\n",
    "    temp =df\n",
    "    df= pd.read_json(directory+item)\n",
    "    df = pd.concat([temp,df],ignore_index=True)"
   ]
  },
  {
   "cell_type": "code",
   "execution_count": 116,
   "metadata": {},
   "outputs": [
    {
     "output_type": "execute_result",
     "data": {
      "text/plain": [
       "                    Book_Name Protocol    PID  Buffer_Size  Total_Time_Taken  \\\n",
       "0  les_miserables_victor_hugo      TCP  12410           32        296.752178   \n",
       "1  les_miserables_victor_hugo      TCP  14949           32        295.924002   \n",
       "2  les_miserables_victor_hugo      TCP  12695           32        286.625585   \n",
       "3  les_miserables_victor_hugo      TCP  14015           32        276.645680   \n",
       "\n",
       "     Throughput  Word_Count                    Nagle  \n",
       "0  12133.899151      569408  Disabled only on Client  \n",
       "1  12167.857208      569408  Disabled only on Server  \n",
       "2  12562.594526      569408          Enabled on Both  \n",
       "3  13015.786093      569408         Disabled on Both  "
      ],
      "text/html": "<div>\n<style scoped>\n    .dataframe tbody tr th:only-of-type {\n        vertical-align: middle;\n    }\n\n    .dataframe tbody tr th {\n        vertical-align: top;\n    }\n\n    .dataframe thead th {\n        text-align: right;\n    }\n</style>\n<table border=\"1\" class=\"dataframe\">\n  <thead>\n    <tr style=\"text-align: right;\">\n      <th></th>\n      <th>Book_Name</th>\n      <th>Protocol</th>\n      <th>PID</th>\n      <th>Buffer_Size</th>\n      <th>Total_Time_Taken</th>\n      <th>Throughput</th>\n      <th>Word_Count</th>\n      <th>Nagle</th>\n    </tr>\n  </thead>\n  <tbody>\n    <tr>\n      <th>0</th>\n      <td>les_miserables_victor_hugo</td>\n      <td>TCP</td>\n      <td>12410</td>\n      <td>32</td>\n      <td>296.752178</td>\n      <td>12133.899151</td>\n      <td>569408</td>\n      <td>Disabled only on Client</td>\n    </tr>\n    <tr>\n      <th>1</th>\n      <td>les_miserables_victor_hugo</td>\n      <td>TCP</td>\n      <td>14949</td>\n      <td>32</td>\n      <td>295.924002</td>\n      <td>12167.857208</td>\n      <td>569408</td>\n      <td>Disabled only on Server</td>\n    </tr>\n    <tr>\n      <th>2</th>\n      <td>les_miserables_victor_hugo</td>\n      <td>TCP</td>\n      <td>12695</td>\n      <td>32</td>\n      <td>286.625585</td>\n      <td>12562.594526</td>\n      <td>569408</td>\n      <td>Enabled on Both</td>\n    </tr>\n    <tr>\n      <th>3</th>\n      <td>les_miserables_victor_hugo</td>\n      <td>TCP</td>\n      <td>14015</td>\n      <td>32</td>\n      <td>276.645680</td>\n      <td>13015.786093</td>\n      <td>569408</td>\n      <td>Disabled on Both</td>\n    </tr>\n  </tbody>\n</table>\n</div>"
     },
     "metadata": {},
     "execution_count": 116
    }
   ],
   "source": [
    "three_D['Nagle']=['Disabled only on Client','Disabled only on Server','Disabled on Both','Enabled on Both']\n",
    "three_D =three_D.sort_values(by=['Total_Time_Taken'],ascending=False,ignore_index=True)\n",
    "three_D.drop(['Size_of_the_file_created','Original Size'],1)"
   ]
  },
  {
   "source": [
    "> ## Results of 3E\n"
   ],
   "cell_type": "markdown",
   "metadata": {}
  },
  {
   "cell_type": "code",
   "execution_count": 110,
   "metadata": {},
   "outputs": [
    {
     "output_type": "stream",
     "name": "stdout",
     "text": [
      "['tcp_results_without_delayedAck_OnBoth.json', 'tcp_results_without_delayedAck_OnlyOnClient.json', 'tcp_results_without_delayedAck_OnlyOnServer.json', 'tcp_results_with_delayedAck.json']\n"
     ]
    }
   ],
   "source": [
    "directory =\"./3E/results/\" \n",
    "files = os.listdir(directory)\n",
    "df_total =[]\n",
    "df = None\n",
    "print(files)\n",
    "for i,item in enumerate(files):\n",
    "    temp =df\n",
    "    df= pd.read_json(directory+item)\n",
    "    df = pd.concat([temp,df],ignore_index=True)\n",
    "three_E = df"
   ]
  },
  {
   "cell_type": "code",
   "execution_count": 127,
   "metadata": {},
   "outputs": [
    {
     "output_type": "execute_result",
     "data": {
      "text/plain": [
       "                    Book_Name Protocol    PID  Buffer_Size  Total_Time_Taken  \\\n",
       "0  les_miserables_victor_hugo      TCP   8843           32        297.441493   \n",
       "1  les_miserables_victor_hugo      TCP  10390           32        293.612989   \n",
       "2  les_miserables_victor_hugo      TCP   8560           32        290.174750   \n",
       "3  les_miserables_victor_hugo      TCP   9888           32        266.980675   \n",
       "\n",
       "     Throughput  Word_Count              Delayed Ack  \n",
       "0  12105.779077      569408  Disabled only on Client  \n",
       "1  12263.629807      569408         Disabled on Both  \n",
       "2  12408.939792      569408          Enabled on Both  \n",
       "3  13486.972444      569408  Disabled only on Server  "
      ],
      "text/html": "<div>\n<style scoped>\n    .dataframe tbody tr th:only-of-type {\n        vertical-align: middle;\n    }\n\n    .dataframe tbody tr th {\n        vertical-align: top;\n    }\n\n    .dataframe thead th {\n        text-align: right;\n    }\n</style>\n<table border=\"1\" class=\"dataframe\">\n  <thead>\n    <tr style=\"text-align: right;\">\n      <th></th>\n      <th>Book_Name</th>\n      <th>Protocol</th>\n      <th>PID</th>\n      <th>Buffer_Size</th>\n      <th>Total_Time_Taken</th>\n      <th>Throughput</th>\n      <th>Word_Count</th>\n      <th>Delayed Ack</th>\n    </tr>\n  </thead>\n  <tbody>\n    <tr>\n      <th>0</th>\n      <td>les_miserables_victor_hugo</td>\n      <td>TCP</td>\n      <td>8843</td>\n      <td>32</td>\n      <td>297.441493</td>\n      <td>12105.779077</td>\n      <td>569408</td>\n      <td>Disabled only on Client</td>\n    </tr>\n    <tr>\n      <th>1</th>\n      <td>les_miserables_victor_hugo</td>\n      <td>TCP</td>\n      <td>10390</td>\n      <td>32</td>\n      <td>293.612989</td>\n      <td>12263.629807</td>\n      <td>569408</td>\n      <td>Disabled on Both</td>\n    </tr>\n    <tr>\n      <th>2</th>\n      <td>les_miserables_victor_hugo</td>\n      <td>TCP</td>\n      <td>8560</td>\n      <td>32</td>\n      <td>290.174750</td>\n      <td>12408.939792</td>\n      <td>569408</td>\n      <td>Enabled on Both</td>\n    </tr>\n    <tr>\n      <th>3</th>\n      <td>les_miserables_victor_hugo</td>\n      <td>TCP</td>\n      <td>9888</td>\n      <td>32</td>\n      <td>266.980675</td>\n      <td>13486.972444</td>\n      <td>569408</td>\n      <td>Disabled only on Server</td>\n    </tr>\n  </tbody>\n</table>\n</div>"
     },
     "metadata": {},
     "execution_count": 127
    }
   ],
   "source": [
    "three_E['Delayed Ack']=['Disabled on Both','Disabled only on Client','Disabled only on Server','Enabled on Both']\n",
    "three_E=three_E.sort_values(by=['Total_Time_Taken'],ascending=False,ignore_index=True)\n",
    "three_E.drop(['Size_of_the_file_created','Original Size'],1)"
   ]
  },
  {
   "source": [
    "> ## Results of 3F"
   ],
   "cell_type": "markdown",
   "metadata": {}
  },
  {
   "cell_type": "code",
   "execution_count": 83,
   "metadata": {},
   "outputs": [
    {
     "output_type": "stream",
     "name": "stdout",
     "text": [
      "['tcp_results.json', 'tcp_results_without_delayedAck_withoutNagle_OnBoth.json', 'tcp_results_without_delayedAck_withoutNagle_OnlyOnClient.json', 'tcp_results_without_delayedAck_withoutNagle_OnlyOnServer.json']\n"
     ]
    }
   ],
   "source": [
    "directory =\"./3F/results/\" \n",
    "files = os.listdir(directory)\n",
    "df_total =[]\n",
    "df = None\n",
    "print(files)\n",
    "for i,item in enumerate(files):\n",
    "    temp =df\n",
    "    df= pd.read_json(directory+item)\n",
    "    df = pd.concat([temp,df],ignore_index=True)\n",
    "three_F = df"
   ]
  },
  {
   "cell_type": "code",
   "execution_count": 118,
   "metadata": {},
   "outputs": [
    {
     "output_type": "execute_result",
     "data": {
      "text/plain": [
       "                    Book_Name Protocol    PID  Buffer_Size  Total_Time_Taken  \\\n",
       "0  les_miserables_victor_hugo      TCP  19356           32        292.496484   \n",
       "1  les_miserables_victor_hugo      TCP  20457           32        291.396158   \n",
       "2  les_miserables_victor_hugo      TCP  19663           32        290.988906   \n",
       "3  les_miserables_victor_hugo      TCP  20906           32        289.390486   \n",
       "\n",
       "     Throughput  Word_Count Nagle and Delayed Ack  \n",
       "0  12310.442003      569408       Enabled on Both  \n",
       "1  12356.926821      569408    Disabled on Server  \n",
       "2  12374.220896      569408    Disabled on Client  \n",
       "3  12442.568689      569408      Disabled on both  "
      ],
      "text/html": "<div>\n<style scoped>\n    .dataframe tbody tr th:only-of-type {\n        vertical-align: middle;\n    }\n\n    .dataframe tbody tr th {\n        vertical-align: top;\n    }\n\n    .dataframe thead th {\n        text-align: right;\n    }\n</style>\n<table border=\"1\" class=\"dataframe\">\n  <thead>\n    <tr style=\"text-align: right;\">\n      <th></th>\n      <th>Book_Name</th>\n      <th>Protocol</th>\n      <th>PID</th>\n      <th>Buffer_Size</th>\n      <th>Total_Time_Taken</th>\n      <th>Throughput</th>\n      <th>Word_Count</th>\n      <th>Nagle and Delayed Ack</th>\n    </tr>\n  </thead>\n  <tbody>\n    <tr>\n      <th>0</th>\n      <td>les_miserables_victor_hugo</td>\n      <td>TCP</td>\n      <td>19356</td>\n      <td>32</td>\n      <td>292.496484</td>\n      <td>12310.442003</td>\n      <td>569408</td>\n      <td>Enabled on Both</td>\n    </tr>\n    <tr>\n      <th>1</th>\n      <td>les_miserables_victor_hugo</td>\n      <td>TCP</td>\n      <td>20457</td>\n      <td>32</td>\n      <td>291.396158</td>\n      <td>12356.926821</td>\n      <td>569408</td>\n      <td>Disabled on Server</td>\n    </tr>\n    <tr>\n      <th>2</th>\n      <td>les_miserables_victor_hugo</td>\n      <td>TCP</td>\n      <td>19663</td>\n      <td>32</td>\n      <td>290.988906</td>\n      <td>12374.220896</td>\n      <td>569408</td>\n      <td>Disabled on Client</td>\n    </tr>\n    <tr>\n      <th>3</th>\n      <td>les_miserables_victor_hugo</td>\n      <td>TCP</td>\n      <td>20906</td>\n      <td>32</td>\n      <td>289.390486</td>\n      <td>12442.568689</td>\n      <td>569408</td>\n      <td>Disabled on both</td>\n    </tr>\n  </tbody>\n</table>\n</div>"
     },
     "metadata": {},
     "execution_count": 118
    }
   ],
   "source": [
    "three_F['Nagle and Delayed Ack']=['Enabled on Both','Disabled on both','Disabled on Client','Disabled on Server']\n",
    "three_F =three_F.sort_values(by=['Total_Time_Taken'],ascending=False,ignore_index=True)\n",
    "three_F.drop(['Size_of_the_file_created','Original Size'],1)"
   ]
  },
  {
   "cell_type": "code",
   "execution_count": null,
   "metadata": {},
   "outputs": [],
   "source": []
  },
  {
   "source": [
    "> ## Results of 3G part"
   ],
   "cell_type": "markdown",
   "metadata": {}
  },
  {
   "cell_type": "code",
   "execution_count": 119,
   "metadata": {},
   "outputs": [
    {
     "output_type": "stream",
     "name": "stdout",
     "text": [
      "['tcp_results_withoutNagle_OnlyOnClient.json', 'tcp_results_withoutNagle_OnlyOnServer.json', 'tcp_results_without_delayedAck_OnBoth.json', 'tcp_results_with_Nagle.json']\n"
     ]
    }
   ],
   "source": [
    "directory =\"./3G/3G_D/results/\" \n",
    "files = os.listdir(directory)\n",
    "df_total =[]\n",
    "df = None\n",
    "print(files)\n",
    "for i,item in enumerate(files):\n",
    "    temp =df\n",
    "    df= pd.read_json(directory+item)\n",
    "    df = pd.concat([temp,df],ignore_index=True)\n",
    "three_G_D = df"
   ]
  },
  {
   "cell_type": "code",
   "execution_count": 128,
   "metadata": {},
   "outputs": [
    {
     "output_type": "execute_result",
     "data": {
      "text/plain": [
       "                    Book_Name Protocol    PID  Buffer_Size  Total_Time_Taken  \\\n",
       "0  les_miserables_victor_hugo      TCP  22210        65536          0.730155   \n",
       "1  les_miserables_victor_hugo      TCP  22179        65536          0.627564   \n",
       "2  les_miserables_victor_hugo      TCP  22030        65536          0.510500   \n",
       "3  les_miserables_victor_hugo      TCP  22057        65536          0.448986   \n",
       "\n",
       "     Throughput  Word_Count                    Nagle  \n",
       "0  4.931501e+06      569408         Disabled on Both  \n",
       "1  5.737680e+06      569408  Disabled only on Server  \n",
       "2  7.053398e+06      569408          Enabled on Both  \n",
       "3  8.019766e+06      569408  Disabled only on Client  "
      ],
      "text/html": "<div>\n<style scoped>\n    .dataframe tbody tr th:only-of-type {\n        vertical-align: middle;\n    }\n\n    .dataframe tbody tr th {\n        vertical-align: top;\n    }\n\n    .dataframe thead th {\n        text-align: right;\n    }\n</style>\n<table border=\"1\" class=\"dataframe\">\n  <thead>\n    <tr style=\"text-align: right;\">\n      <th></th>\n      <th>Book_Name</th>\n      <th>Protocol</th>\n      <th>PID</th>\n      <th>Buffer_Size</th>\n      <th>Total_Time_Taken</th>\n      <th>Throughput</th>\n      <th>Word_Count</th>\n      <th>Nagle</th>\n    </tr>\n  </thead>\n  <tbody>\n    <tr>\n      <th>0</th>\n      <td>les_miserables_victor_hugo</td>\n      <td>TCP</td>\n      <td>22210</td>\n      <td>65536</td>\n      <td>0.730155</td>\n      <td>4.931501e+06</td>\n      <td>569408</td>\n      <td>Disabled on Both</td>\n    </tr>\n    <tr>\n      <th>1</th>\n      <td>les_miserables_victor_hugo</td>\n      <td>TCP</td>\n      <td>22179</td>\n      <td>65536</td>\n      <td>0.627564</td>\n      <td>5.737680e+06</td>\n      <td>569408</td>\n      <td>Disabled only on Server</td>\n    </tr>\n    <tr>\n      <th>2</th>\n      <td>les_miserables_victor_hugo</td>\n      <td>TCP</td>\n      <td>22030</td>\n      <td>65536</td>\n      <td>0.510500</td>\n      <td>7.053398e+06</td>\n      <td>569408</td>\n      <td>Enabled on Both</td>\n    </tr>\n    <tr>\n      <th>3</th>\n      <td>les_miserables_victor_hugo</td>\n      <td>TCP</td>\n      <td>22057</td>\n      <td>65536</td>\n      <td>0.448986</td>\n      <td>8.019766e+06</td>\n      <td>569408</td>\n      <td>Disabled only on Client</td>\n    </tr>\n  </tbody>\n</table>\n</div>"
     },
     "metadata": {},
     "execution_count": 128
    }
   ],
   "source": [
    "three_G_D['Nagle']=['Disabled only on Client','Disabled only on Server','Disabled on Both','Enabled on Both']\n",
    "three_G_D=three_G_D.sort_values(by=['Total_Time_Taken'],ascending=False,ignore_index=True)\n",
    "three_G_D.drop(['Size_of_the_file_created','Original Size'],1)"
   ]
  },
  {
   "cell_type": "code",
   "execution_count": 121,
   "metadata": {},
   "outputs": [
    {
     "output_type": "stream",
     "name": "stdout",
     "text": [
      "['tcp_results_without_delayedAck_OnBoth.json', 'tcp_results_without_delayedAck_OnlyOnClient.json', 'tcp_results_without_delayedAck_OnlyOnServer.json', 'tcp_results_with_delayedAck.json']\n"
     ]
    }
   ],
   "source": [
    "directory =\"./3G/3G_E/results/\" \n",
    "files = os.listdir(directory)\n",
    "df_total =[]\n",
    "df = None\n",
    "print(files)\n",
    "for i,item in enumerate(files):\n",
    "    temp =df\n",
    "    df= pd.read_json(directory+item)\n",
    "    df = pd.concat([temp,df],ignore_index=True)\n",
    "three_G_E = df"
   ]
  },
  {
   "cell_type": "code",
   "execution_count": 125,
   "metadata": {},
   "outputs": [
    {
     "output_type": "execute_result",
     "data": {
      "text/plain": [
       "                    Book_Name Protocol    PID  Buffer_Size  Total_Time_Taken  \\\n",
       "0  les_miserables_victor_hugo      TCP  23193        65536          0.602188   \n",
       "1  les_miserables_victor_hugo      TCP  23106        65536          0.585263   \n",
       "2  les_miserables_victor_hugo      TCP  23167        65536          0.514671   \n",
       "3  les_miserables_victor_hugo      TCP  23135        65536          0.468687   \n",
       "\n",
       "     Throughput  Word_Count              Delayed Ack  \n",
       "0  5.979464e+06      569408         Disabled on Both  \n",
       "1  6.152376e+06      569408          Enabled on Both  \n",
       "2  6.996244e+06      569408  Disabled only on Server  \n",
       "3  7.682651e+06      569408  Disabled only on Client  "
      ],
      "text/html": "<div>\n<style scoped>\n    .dataframe tbody tr th:only-of-type {\n        vertical-align: middle;\n    }\n\n    .dataframe tbody tr th {\n        vertical-align: top;\n    }\n\n    .dataframe thead th {\n        text-align: right;\n    }\n</style>\n<table border=\"1\" class=\"dataframe\">\n  <thead>\n    <tr style=\"text-align: right;\">\n      <th></th>\n      <th>Book_Name</th>\n      <th>Protocol</th>\n      <th>PID</th>\n      <th>Buffer_Size</th>\n      <th>Total_Time_Taken</th>\n      <th>Throughput</th>\n      <th>Word_Count</th>\n      <th>Delayed Ack</th>\n    </tr>\n  </thead>\n  <tbody>\n    <tr>\n      <th>0</th>\n      <td>les_miserables_victor_hugo</td>\n      <td>TCP</td>\n      <td>23193</td>\n      <td>65536</td>\n      <td>0.602188</td>\n      <td>5.979464e+06</td>\n      <td>569408</td>\n      <td>Disabled on Both</td>\n    </tr>\n    <tr>\n      <th>1</th>\n      <td>les_miserables_victor_hugo</td>\n      <td>TCP</td>\n      <td>23106</td>\n      <td>65536</td>\n      <td>0.585263</td>\n      <td>6.152376e+06</td>\n      <td>569408</td>\n      <td>Enabled on Both</td>\n    </tr>\n    <tr>\n      <th>2</th>\n      <td>les_miserables_victor_hugo</td>\n      <td>TCP</td>\n      <td>23167</td>\n      <td>65536</td>\n      <td>0.514671</td>\n      <td>6.996244e+06</td>\n      <td>569408</td>\n      <td>Disabled only on Server</td>\n    </tr>\n    <tr>\n      <th>3</th>\n      <td>les_miserables_victor_hugo</td>\n      <td>TCP</td>\n      <td>23135</td>\n      <td>65536</td>\n      <td>0.468687</td>\n      <td>7.682651e+06</td>\n      <td>569408</td>\n      <td>Disabled only on Client</td>\n    </tr>\n  </tbody>\n</table>\n</div>"
     },
     "metadata": {},
     "execution_count": 125
    }
   ],
   "source": [
    "three_G_E['Delayed Ack']=['Disabled on Both','Disabled only on Client','Disabled only on Server','Enabled on Both']\n",
    "three_G_E=three_G_E.sort_values(by=['Total_Time_Taken'],ascending=False,ignore_index=True)\n",
    "three_G_E.drop(['Size_of_the_file_created','Original Size'],1)"
   ]
  },
  {
   "cell_type": "code",
   "execution_count": 102,
   "metadata": {},
   "outputs": [
    {
     "output_type": "stream",
     "name": "stdout",
     "text": [
      "['tcp_results.json', 'tcp_results_without_delayedAck_withoutNagle_OnBoth.json', 'tcp_results_without_delayedAck_withoutNagle_OnlyOnClient.json', 'tcp_results_without_delayedAck_withoutNagle_OnlyOnServer.json']\n"
     ]
    }
   ],
   "source": [
    "directory =\"./3G/3G_F/results/\" \n",
    "files = os.listdir(directory)\n",
    "df_total =[]\n",
    "df = None\n",
    "print(files)\n",
    "for i,item in enumerate(files):\n",
    "    temp =df\n",
    "    df= pd.read_json(directory+item)\n",
    "    df = pd.concat([temp,df],ignore_index=True)\n",
    "three_G_F = df"
   ]
  },
  {
   "cell_type": "code",
   "execution_count": 126,
   "metadata": {},
   "outputs": [
    {
     "output_type": "execute_result",
     "data": {
      "text/plain": [
       "                    Book_Name Protocol    PID  Buffer_Size  Total_Time_Taken  \\\n",
       "0  les_miserables_victor_hugo      TCP  24530        65536          0.633880   \n",
       "1  les_miserables_victor_hugo      TCP  24559        65536          0.524704   \n",
       "2  les_miserables_victor_hugo      TCP  24146        65536          0.515764   \n",
       "3  les_miserables_victor_hugo      TCP  24119        65536          0.472421   \n",
       "\n",
       "     Throughput  Word_Count Nagle and Delayed Ack  \n",
       "0  5.680510e+06      569408    Disabled on Server  \n",
       "1  6.862459e+06      569408      Disabled on both  \n",
       "2  6.981419e+06      569408    Disabled on Client  \n",
       "3  7.621938e+06      569408       Enabled on Both  "
      ],
      "text/html": "<div>\n<style scoped>\n    .dataframe tbody tr th:only-of-type {\n        vertical-align: middle;\n    }\n\n    .dataframe tbody tr th {\n        vertical-align: top;\n    }\n\n    .dataframe thead th {\n        text-align: right;\n    }\n</style>\n<table border=\"1\" class=\"dataframe\">\n  <thead>\n    <tr style=\"text-align: right;\">\n      <th></th>\n      <th>Book_Name</th>\n      <th>Protocol</th>\n      <th>PID</th>\n      <th>Buffer_Size</th>\n      <th>Total_Time_Taken</th>\n      <th>Throughput</th>\n      <th>Word_Count</th>\n      <th>Nagle and Delayed Ack</th>\n    </tr>\n  </thead>\n  <tbody>\n    <tr>\n      <th>0</th>\n      <td>les_miserables_victor_hugo</td>\n      <td>TCP</td>\n      <td>24530</td>\n      <td>65536</td>\n      <td>0.633880</td>\n      <td>5.680510e+06</td>\n      <td>569408</td>\n      <td>Disabled on Server</td>\n    </tr>\n    <tr>\n      <th>1</th>\n      <td>les_miserables_victor_hugo</td>\n      <td>TCP</td>\n      <td>24559</td>\n      <td>65536</td>\n      <td>0.524704</td>\n      <td>6.862459e+06</td>\n      <td>569408</td>\n      <td>Disabled on both</td>\n    </tr>\n    <tr>\n      <th>2</th>\n      <td>les_miserables_victor_hugo</td>\n      <td>TCP</td>\n      <td>24146</td>\n      <td>65536</td>\n      <td>0.515764</td>\n      <td>6.981419e+06</td>\n      <td>569408</td>\n      <td>Disabled on Client</td>\n    </tr>\n    <tr>\n      <th>3</th>\n      <td>les_miserables_victor_hugo</td>\n      <td>TCP</td>\n      <td>24119</td>\n      <td>65536</td>\n      <td>0.472421</td>\n      <td>7.621938e+06</td>\n      <td>569408</td>\n      <td>Enabled on Both</td>\n    </tr>\n  </tbody>\n</table>\n</div>"
     },
     "metadata": {},
     "execution_count": 126
    }
   ],
   "source": [
    "\n",
    "three_G_F['Nagle and Delayed Ack']=['Enabled on Both','Disabled on both','Disabled on Client','Disabled on Server']\n",
    "three_G_F =three_G_F.sort_values(by=['Total_Time_Taken'],ascending=False,ignore_index=True)\n",
    "three_G_F.drop(['Size_of_the_file_created','Original Size'],1)"
   ]
  },
  {
   "cell_type": "code",
   "execution_count": null,
   "metadata": {},
   "outputs": [],
   "source": []
  }
 ]
}