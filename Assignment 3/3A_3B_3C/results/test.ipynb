{
 "metadata": {
  "language_info": {
   "codemirror_mode": {
    "name": "ipython",
    "version": 3
   },
   "file_extension": ".py",
   "mimetype": "text/x-python",
   "name": "python",
   "nbconvert_exporter": "python",
   "pygments_lexer": "ipython3",
   "version": "3.8.3-final"
  },
  "orig_nbformat": 2,
  "kernelspec": {
   "name": "Python 3.8.3 64-bit ('base': conda)",
   "display_name": "Python 3.8.3 64-bit ('base': conda)",
   "metadata": {
    "interpreter": {
     "hash": "518e7e7c31e8329b925a69db508849b1441770a48afe98d96b7a9ec39ea6dbea"
    }
   }
  }
 },
 "nbformat": 4,
 "nbformat_minor": 2,
 "cells": [
  {
   "cell_type": "code",
   "execution_count": 15,
   "metadata": {},
   "outputs": [],
   "source": [
    "import pandas as pd\n",
    "\n",
    "df1=pd.read_json('tcp_results.json')\n",
    "df2=pd.read_json('udp_results.json')\n",
    "result =pd.concat([df1,df2],ignore_index=True)"
   ]
  },
  {
   "cell_type": "code",
   "execution_count": 5,
   "metadata": {},
   "outputs": [
    {
     "output_type": "execute_result",
     "data": {
      "text/plain": [
       "                     Book_Name Protocol     PID  Buffer_Size  \\\n",
       "0   les_miserables_victor_hugo      TCP  394940         1024   \n",
       "1   les_miserables_victor_hugo      UDP  393967         1024   \n",
       "2   les_miserables_victor_hugo      TCP  394470           32   \n",
       "3   les_miserables_victor_hugo      UDP  393998        65536   \n",
       "4   les_miserables_victor_hugo      TCP  394983        32768   \n",
       "5   les_miserables_victor_hugo      UDP  393955           32   \n",
       "6   les_miserables_victor_hugo      UDP  393984        32768   \n",
       "7   les_miserables_victor_hugo      TCP  394997        65536   \n",
       "8                war_and_peace      UDP  393988        32768   \n",
       "9                war_and_peace      TCP  394952         1024   \n",
       "10               war_and_peace      UDP  394002        65536   \n",
       "11               war_and_peace      UDP  393972         1024   \n",
       "12               war_and_peace      TCP  395001        65536   \n",
       "13               war_and_peace      TCP  394728           32   \n",
       "14               war_and_peace      UDP  393959           32   \n",
       "15               war_and_peace      TCP  394987        32768   \n",
       "16                 don_quixote      UDP  393965         1024   \n",
       "17                 don_quixote      TCP  394995        65536   \n",
       "18                 don_quixote      UDP  393982        32768   \n",
       "19                 don_quixote      TCP  394981        32768   \n",
       "20                 don_quixote      TCP  394937         1024   \n",
       "21                 don_quixote      UDP  393995        65536   \n",
       "22                 don_quixote      TCP  394320           32   \n",
       "23                 don_quixote      UDP  393953           32   \n",
       "24                anna_kareina      UDP  393974        32768   \n",
       "25                anna_kareina      UDP  393990        65536   \n",
       "26                anna_kareina      UDP  393961         1024   \n",
       "27                anna_kareina      TCP  394145           32   \n",
       "28                anna_kareina      UDP  393947           32   \n",
       "29                anna_kareina      TCP  394929         1024   \n",
       "30                anna_kareina      TCP  394976        32768   \n",
       "31                anna_kareina      TCP  394991        65536   \n",
       "32                 bleak_house      UDP  393976        32768   \n",
       "33                 bleak_house      UDP  393992        65536   \n",
       "34                 bleak_house      TCP  394932         1024   \n",
       "35                 bleak_house      UDP  393950           32   \n",
       "36                 bleak_house      TCP  394978        32768   \n",
       "37                 bleak_house      TCP  394993        65536   \n",
       "38                 bleak_house      UDP  393963         1024   \n",
       "39                 bleak_house      TCP  394197           32   \n",
       "40                 middlemarch      TCP  394985        32768   \n",
       "41                 middlemarch      UDP  393970         1024   \n",
       "42                 middlemarch      UDP  393986        32768   \n",
       "43                 middlemarch      TCP  394949         1024   \n",
       "44                 middlemarch      TCP  394999        65536   \n",
       "45                 middlemarch      TCP  394674           32   \n",
       "46                 middlemarch      UDP  394000        65536   \n",
       "47                 middlemarch      UDP  393957           32   \n",
       "\n",
       "    Total_Time_Taken  Original Size  Size_of_the_file_created    Throughput  \n",
       "0          12.084607        3369775                   3305477  2.735279e+05  \n",
       "1           0.185182        3369775                    256242  1.383733e+06  \n",
       "2         279.657433        3369775                   3305477  1.181974e+04  \n",
       "3           0.171410        3369775                    351010  2.047779e+06  \n",
       "4           0.568751        3369775                   3305477  5.811814e+06  \n",
       "5           0.165617        3369775                     35974  2.172123e+05  \n",
       "6           0.176988        3369775                    453367  2.561564e+06  \n",
       "7           0.358388        3369775                   3305477  9.223187e+06  \n",
       "8           0.180799        3359584                    438533  2.425534e+06  \n",
       "9          11.804929        3359584                   3302989  2.797974e+05  \n",
       "10          0.199025        3359584                    354865  1.783020e+06  \n",
       "11          0.189208        3359584                    253902  1.341920e+06  \n",
       "12          0.370267        3359584                   3302989  8.920562e+06  \n",
       "13        275.492876        3359584                   3302989  1.198938e+04  \n",
       "14          0.150794        3359584                     21183  1.404768e+05  \n",
       "15          0.559384        3359584                   3302989  5.904691e+06  \n",
       "16          0.143663        2390853                    177165  1.233197e+06  \n",
       "17          0.281230        2390853                   2354367  8.371672e+06  \n",
       "18          0.168129        2390853                    402662  2.394956e+06  \n",
       "19          0.362453        2390853                   2354367  6.495652e+06  \n",
       "20          5.936801        2390853                   2354367  3.965717e+05  \n",
       "21          0.162150        2390853                    307800  1.898241e+06  \n",
       "22        139.425275        2390853                   2354367  1.688623e+04  \n",
       "23          0.126889        2390853                     19606  1.545133e+05  \n",
       "24          0.152204        2068079                    311900  2.049223e+06  \n",
       "25          0.155829        2068079                    228635  1.467213e+06  \n",
       "26          0.189452        2068079                    239643  1.264929e+06  \n",
       "27         99.764107        2068079                   2033655  2.038464e+04  \n",
       "28          0.128536        2068079                     26775  2.083070e+05  \n",
       "29          4.309790        2068079                   2033655  4.718687e+05  \n",
       "30          0.306559        2068079                   2033655  6.633821e+06  \n",
       "31          0.225582        2068079                   2033655  9.015133e+06  \n",
       "32          0.117623        2001199                     53415  4.541191e+05  \n",
       "33          0.130455        2001199                    214645  1.645350e+06  \n",
       "34          4.323037        2001199                   1966716  4.549385e+05  \n",
       "35          0.113560        2001199                     10478  9.226844e+04  \n",
       "36          0.310386        2001199                   1966716  6.336357e+06  \n",
       "37          0.235723        2001199                   1966716  8.343318e+06  \n",
       "38          0.123766        2001199                    145473  1.175388e+06  \n",
       "39         98.456245        2001199                   1966716  1.997553e+04  \n",
       "40          0.283397        1865985                   1837592  6.484157e+06  \n",
       "41          0.164545        1865985                    197475  1.200125e+06  \n",
       "42          0.158086        1865985                    328445  2.077631e+06  \n",
       "43          3.517075        1865985                   1837592  5.224773e+05  \n",
       "44          0.232337        1865985                   1837592  7.909166e+06  \n",
       "45         83.207396        1865985                   1837592  2.208448e+04  \n",
       "46          0.155701        1865985                    271056  1.740876e+06  \n",
       "47          0.137331        1865985                     27457  1.999323e+05  "
      ],
      "text/html": "<div>\n<style scoped>\n    .dataframe tbody tr th:only-of-type {\n        vertical-align: middle;\n    }\n\n    .dataframe tbody tr th {\n        vertical-align: top;\n    }\n\n    .dataframe thead th {\n        text-align: right;\n    }\n</style>\n<table border=\"1\" class=\"dataframe\">\n  <thead>\n    <tr style=\"text-align: right;\">\n      <th></th>\n      <th>Book_Name</th>\n      <th>Protocol</th>\n      <th>PID</th>\n      <th>Buffer_Size</th>\n      <th>Total_Time_Taken</th>\n      <th>Original Size</th>\n      <th>Size_of_the_file_created</th>\n      <th>Throughput</th>\n    </tr>\n  </thead>\n  <tbody>\n    <tr>\n      <th>0</th>\n      <td>les_miserables_victor_hugo</td>\n      <td>TCP</td>\n      <td>394940</td>\n      <td>1024</td>\n      <td>12.084607</td>\n      <td>3369775</td>\n      <td>3305477</td>\n      <td>2.735279e+05</td>\n    </tr>\n    <tr>\n      <th>1</th>\n      <td>les_miserables_victor_hugo</td>\n      <td>UDP</td>\n      <td>393967</td>\n      <td>1024</td>\n      <td>0.185182</td>\n      <td>3369775</td>\n      <td>256242</td>\n      <td>1.383733e+06</td>\n    </tr>\n    <tr>\n      <th>2</th>\n      <td>les_miserables_victor_hugo</td>\n      <td>TCP</td>\n      <td>394470</td>\n      <td>32</td>\n      <td>279.657433</td>\n      <td>3369775</td>\n      <td>3305477</td>\n      <td>1.181974e+04</td>\n    </tr>\n    <tr>\n      <th>3</th>\n      <td>les_miserables_victor_hugo</td>\n      <td>UDP</td>\n      <td>393998</td>\n      <td>65536</td>\n      <td>0.171410</td>\n      <td>3369775</td>\n      <td>351010</td>\n      <td>2.047779e+06</td>\n    </tr>\n    <tr>\n      <th>4</th>\n      <td>les_miserables_victor_hugo</td>\n      <td>TCP</td>\n      <td>394983</td>\n      <td>32768</td>\n      <td>0.568751</td>\n      <td>3369775</td>\n      <td>3305477</td>\n      <td>5.811814e+06</td>\n    </tr>\n    <tr>\n      <th>5</th>\n      <td>les_miserables_victor_hugo</td>\n      <td>UDP</td>\n      <td>393955</td>\n      <td>32</td>\n      <td>0.165617</td>\n      <td>3369775</td>\n      <td>35974</td>\n      <td>2.172123e+05</td>\n    </tr>\n    <tr>\n      <th>6</th>\n      <td>les_miserables_victor_hugo</td>\n      <td>UDP</td>\n      <td>393984</td>\n      <td>32768</td>\n      <td>0.176988</td>\n      <td>3369775</td>\n      <td>453367</td>\n      <td>2.561564e+06</td>\n    </tr>\n    <tr>\n      <th>7</th>\n      <td>les_miserables_victor_hugo</td>\n      <td>TCP</td>\n      <td>394997</td>\n      <td>65536</td>\n      <td>0.358388</td>\n      <td>3369775</td>\n      <td>3305477</td>\n      <td>9.223187e+06</td>\n    </tr>\n    <tr>\n      <th>8</th>\n      <td>war_and_peace</td>\n      <td>UDP</td>\n      <td>393988</td>\n      <td>32768</td>\n      <td>0.180799</td>\n      <td>3359584</td>\n      <td>438533</td>\n      <td>2.425534e+06</td>\n    </tr>\n    <tr>\n      <th>9</th>\n      <td>war_and_peace</td>\n      <td>TCP</td>\n      <td>394952</td>\n      <td>1024</td>\n      <td>11.804929</td>\n      <td>3359584</td>\n      <td>3302989</td>\n      <td>2.797974e+05</td>\n    </tr>\n    <tr>\n      <th>10</th>\n      <td>war_and_peace</td>\n      <td>UDP</td>\n      <td>394002</td>\n      <td>65536</td>\n      <td>0.199025</td>\n      <td>3359584</td>\n      <td>354865</td>\n      <td>1.783020e+06</td>\n    </tr>\n    <tr>\n      <th>11</th>\n      <td>war_and_peace</td>\n      <td>UDP</td>\n      <td>393972</td>\n      <td>1024</td>\n      <td>0.189208</td>\n      <td>3359584</td>\n      <td>253902</td>\n      <td>1.341920e+06</td>\n    </tr>\n    <tr>\n      <th>12</th>\n      <td>war_and_peace</td>\n      <td>TCP</td>\n      <td>395001</td>\n      <td>65536</td>\n      <td>0.370267</td>\n      <td>3359584</td>\n      <td>3302989</td>\n      <td>8.920562e+06</td>\n    </tr>\n    <tr>\n      <th>13</th>\n      <td>war_and_peace</td>\n      <td>TCP</td>\n      <td>394728</td>\n      <td>32</td>\n      <td>275.492876</td>\n      <td>3359584</td>\n      <td>3302989</td>\n      <td>1.198938e+04</td>\n    </tr>\n    <tr>\n      <th>14</th>\n      <td>war_and_peace</td>\n      <td>UDP</td>\n      <td>393959</td>\n      <td>32</td>\n      <td>0.150794</td>\n      <td>3359584</td>\n      <td>21183</td>\n      <td>1.404768e+05</td>\n    </tr>\n    <tr>\n      <th>15</th>\n      <td>war_and_peace</td>\n      <td>TCP</td>\n      <td>394987</td>\n      <td>32768</td>\n      <td>0.559384</td>\n      <td>3359584</td>\n      <td>3302989</td>\n      <td>5.904691e+06</td>\n    </tr>\n    <tr>\n      <th>16</th>\n      <td>don_quixote</td>\n      <td>UDP</td>\n      <td>393965</td>\n      <td>1024</td>\n      <td>0.143663</td>\n      <td>2390853</td>\n      <td>177165</td>\n      <td>1.233197e+06</td>\n    </tr>\n    <tr>\n      <th>17</th>\n      <td>don_quixote</td>\n      <td>TCP</td>\n      <td>394995</td>\n      <td>65536</td>\n      <td>0.281230</td>\n      <td>2390853</td>\n      <td>2354367</td>\n      <td>8.371672e+06</td>\n    </tr>\n    <tr>\n      <th>18</th>\n      <td>don_quixote</td>\n      <td>UDP</td>\n      <td>393982</td>\n      <td>32768</td>\n      <td>0.168129</td>\n      <td>2390853</td>\n      <td>402662</td>\n      <td>2.394956e+06</td>\n    </tr>\n    <tr>\n      <th>19</th>\n      <td>don_quixote</td>\n      <td>TCP</td>\n      <td>394981</td>\n      <td>32768</td>\n      <td>0.362453</td>\n      <td>2390853</td>\n      <td>2354367</td>\n      <td>6.495652e+06</td>\n    </tr>\n    <tr>\n      <th>20</th>\n      <td>don_quixote</td>\n      <td>TCP</td>\n      <td>394937</td>\n      <td>1024</td>\n      <td>5.936801</td>\n      <td>2390853</td>\n      <td>2354367</td>\n      <td>3.965717e+05</td>\n    </tr>\n    <tr>\n      <th>21</th>\n      <td>don_quixote</td>\n      <td>UDP</td>\n      <td>393995</td>\n      <td>65536</td>\n      <td>0.162150</td>\n      <td>2390853</td>\n      <td>307800</td>\n      <td>1.898241e+06</td>\n    </tr>\n    <tr>\n      <th>22</th>\n      <td>don_quixote</td>\n      <td>TCP</td>\n      <td>394320</td>\n      <td>32</td>\n      <td>139.425275</td>\n      <td>2390853</td>\n      <td>2354367</td>\n      <td>1.688623e+04</td>\n    </tr>\n    <tr>\n      <th>23</th>\n      <td>don_quixote</td>\n      <td>UDP</td>\n      <td>393953</td>\n      <td>32</td>\n      <td>0.126889</td>\n      <td>2390853</td>\n      <td>19606</td>\n      <td>1.545133e+05</td>\n    </tr>\n    <tr>\n      <th>24</th>\n      <td>anna_kareina</td>\n      <td>UDP</td>\n      <td>393974</td>\n      <td>32768</td>\n      <td>0.152204</td>\n      <td>2068079</td>\n      <td>311900</td>\n      <td>2.049223e+06</td>\n    </tr>\n    <tr>\n      <th>25</th>\n      <td>anna_kareina</td>\n      <td>UDP</td>\n      <td>393990</td>\n      <td>65536</td>\n      <td>0.155829</td>\n      <td>2068079</td>\n      <td>228635</td>\n      <td>1.467213e+06</td>\n    </tr>\n    <tr>\n      <th>26</th>\n      <td>anna_kareina</td>\n      <td>UDP</td>\n      <td>393961</td>\n      <td>1024</td>\n      <td>0.189452</td>\n      <td>2068079</td>\n      <td>239643</td>\n      <td>1.264929e+06</td>\n    </tr>\n    <tr>\n      <th>27</th>\n      <td>anna_kareina</td>\n      <td>TCP</td>\n      <td>394145</td>\n      <td>32</td>\n      <td>99.764107</td>\n      <td>2068079</td>\n      <td>2033655</td>\n      <td>2.038464e+04</td>\n    </tr>\n    <tr>\n      <th>28</th>\n      <td>anna_kareina</td>\n      <td>UDP</td>\n      <td>393947</td>\n      <td>32</td>\n      <td>0.128536</td>\n      <td>2068079</td>\n      <td>26775</td>\n      <td>2.083070e+05</td>\n    </tr>\n    <tr>\n      <th>29</th>\n      <td>anna_kareina</td>\n      <td>TCP</td>\n      <td>394929</td>\n      <td>1024</td>\n      <td>4.309790</td>\n      <td>2068079</td>\n      <td>2033655</td>\n      <td>4.718687e+05</td>\n    </tr>\n    <tr>\n      <th>30</th>\n      <td>anna_kareina</td>\n      <td>TCP</td>\n      <td>394976</td>\n      <td>32768</td>\n      <td>0.306559</td>\n      <td>2068079</td>\n      <td>2033655</td>\n      <td>6.633821e+06</td>\n    </tr>\n    <tr>\n      <th>31</th>\n      <td>anna_kareina</td>\n      <td>TCP</td>\n      <td>394991</td>\n      <td>65536</td>\n      <td>0.225582</td>\n      <td>2068079</td>\n      <td>2033655</td>\n      <td>9.015133e+06</td>\n    </tr>\n    <tr>\n      <th>32</th>\n      <td>bleak_house</td>\n      <td>UDP</td>\n      <td>393976</td>\n      <td>32768</td>\n      <td>0.117623</td>\n      <td>2001199</td>\n      <td>53415</td>\n      <td>4.541191e+05</td>\n    </tr>\n    <tr>\n      <th>33</th>\n      <td>bleak_house</td>\n      <td>UDP</td>\n      <td>393992</td>\n      <td>65536</td>\n      <td>0.130455</td>\n      <td>2001199</td>\n      <td>214645</td>\n      <td>1.645350e+06</td>\n    </tr>\n    <tr>\n      <th>34</th>\n      <td>bleak_house</td>\n      <td>TCP</td>\n      <td>394932</td>\n      <td>1024</td>\n      <td>4.323037</td>\n      <td>2001199</td>\n      <td>1966716</td>\n      <td>4.549385e+05</td>\n    </tr>\n    <tr>\n      <th>35</th>\n      <td>bleak_house</td>\n      <td>UDP</td>\n      <td>393950</td>\n      <td>32</td>\n      <td>0.113560</td>\n      <td>2001199</td>\n      <td>10478</td>\n      <td>9.226844e+04</td>\n    </tr>\n    <tr>\n      <th>36</th>\n      <td>bleak_house</td>\n      <td>TCP</td>\n      <td>394978</td>\n      <td>32768</td>\n      <td>0.310386</td>\n      <td>2001199</td>\n      <td>1966716</td>\n      <td>6.336357e+06</td>\n    </tr>\n    <tr>\n      <th>37</th>\n      <td>bleak_house</td>\n      <td>TCP</td>\n      <td>394993</td>\n      <td>65536</td>\n      <td>0.235723</td>\n      <td>2001199</td>\n      <td>1966716</td>\n      <td>8.343318e+06</td>\n    </tr>\n    <tr>\n      <th>38</th>\n      <td>bleak_house</td>\n      <td>UDP</td>\n      <td>393963</td>\n      <td>1024</td>\n      <td>0.123766</td>\n      <td>2001199</td>\n      <td>145473</td>\n      <td>1.175388e+06</td>\n    </tr>\n    <tr>\n      <th>39</th>\n      <td>bleak_house</td>\n      <td>TCP</td>\n      <td>394197</td>\n      <td>32</td>\n      <td>98.456245</td>\n      <td>2001199</td>\n      <td>1966716</td>\n      <td>1.997553e+04</td>\n    </tr>\n    <tr>\n      <th>40</th>\n      <td>middlemarch</td>\n      <td>TCP</td>\n      <td>394985</td>\n      <td>32768</td>\n      <td>0.283397</td>\n      <td>1865985</td>\n      <td>1837592</td>\n      <td>6.484157e+06</td>\n    </tr>\n    <tr>\n      <th>41</th>\n      <td>middlemarch</td>\n      <td>UDP</td>\n      <td>393970</td>\n      <td>1024</td>\n      <td>0.164545</td>\n      <td>1865985</td>\n      <td>197475</td>\n      <td>1.200125e+06</td>\n    </tr>\n    <tr>\n      <th>42</th>\n      <td>middlemarch</td>\n      <td>UDP</td>\n      <td>393986</td>\n      <td>32768</td>\n      <td>0.158086</td>\n      <td>1865985</td>\n      <td>328445</td>\n      <td>2.077631e+06</td>\n    </tr>\n    <tr>\n      <th>43</th>\n      <td>middlemarch</td>\n      <td>TCP</td>\n      <td>394949</td>\n      <td>1024</td>\n      <td>3.517075</td>\n      <td>1865985</td>\n      <td>1837592</td>\n      <td>5.224773e+05</td>\n    </tr>\n    <tr>\n      <th>44</th>\n      <td>middlemarch</td>\n      <td>TCP</td>\n      <td>394999</td>\n      <td>65536</td>\n      <td>0.232337</td>\n      <td>1865985</td>\n      <td>1837592</td>\n      <td>7.909166e+06</td>\n    </tr>\n    <tr>\n      <th>45</th>\n      <td>middlemarch</td>\n      <td>TCP</td>\n      <td>394674</td>\n      <td>32</td>\n      <td>83.207396</td>\n      <td>1865985</td>\n      <td>1837592</td>\n      <td>2.208448e+04</td>\n    </tr>\n    <tr>\n      <th>46</th>\n      <td>middlemarch</td>\n      <td>UDP</td>\n      <td>394000</td>\n      <td>65536</td>\n      <td>0.155701</td>\n      <td>1865985</td>\n      <td>271056</td>\n      <td>1.740876e+06</td>\n    </tr>\n    <tr>\n      <th>47</th>\n      <td>middlemarch</td>\n      <td>UDP</td>\n      <td>393957</td>\n      <td>32</td>\n      <td>0.137331</td>\n      <td>1865985</td>\n      <td>27457</td>\n      <td>1.999323e+05</td>\n    </tr>\n  </tbody>\n</table>\n</div>"
     },
     "metadata": {},
     "execution_count": 5
    }
   ],
   "source": [
    "result.sort_values(by=['Original Size'],ascending=False,ignore_index=True)"
   ]
  },
  {
   "cell_type": "code",
   "execution_count": 6,
   "metadata": {},
   "outputs": [
    {
     "output_type": "execute_result",
     "data": {
      "text/plain": [
       "                    Book_Name Protocol     PID  Buffer_Size  Total_Time_Taken  \\\n",
       "0  les_miserables_victor_hugo      TCP  394470           32        279.657433   \n",
       "1  les_miserables_victor_hugo      TCP  394940         1024         12.084607   \n",
       "2  les_miserables_victor_hugo      TCP  394983        32768          0.568751   \n",
       "3  les_miserables_victor_hugo      TCP  394997        65536          0.358388   \n",
       "4  les_miserables_victor_hugo      UDP  393967         1024          0.185182   \n",
       "5  les_miserables_victor_hugo      UDP  393984        32768          0.176988   \n",
       "6  les_miserables_victor_hugo      UDP  393998        65536          0.171410   \n",
       "7  les_miserables_victor_hugo      UDP  393955           32          0.165617   \n",
       "\n",
       "   Original Size  Size_of_the_file_created    Throughput  \n",
       "0        3369775                   3305477  1.181974e+04  \n",
       "1        3369775                   3305477  2.735279e+05  \n",
       "2        3369775                   3305477  5.811814e+06  \n",
       "3        3369775                   3305477  9.223187e+06  \n",
       "4        3369775                    256242  1.383733e+06  \n",
       "5        3369775                    453367  2.561564e+06  \n",
       "6        3369775                    351010  2.047779e+06  \n",
       "7        3369775                     35974  2.172123e+05  "
      ],
      "text/html": "<div>\n<style scoped>\n    .dataframe tbody tr th:only-of-type {\n        vertical-align: middle;\n    }\n\n    .dataframe tbody tr th {\n        vertical-align: top;\n    }\n\n    .dataframe thead th {\n        text-align: right;\n    }\n</style>\n<table border=\"1\" class=\"dataframe\">\n  <thead>\n    <tr style=\"text-align: right;\">\n      <th></th>\n      <th>Book_Name</th>\n      <th>Protocol</th>\n      <th>PID</th>\n      <th>Buffer_Size</th>\n      <th>Total_Time_Taken</th>\n      <th>Original Size</th>\n      <th>Size_of_the_file_created</th>\n      <th>Throughput</th>\n    </tr>\n  </thead>\n  <tbody>\n    <tr>\n      <th>0</th>\n      <td>les_miserables_victor_hugo</td>\n      <td>TCP</td>\n      <td>394470</td>\n      <td>32</td>\n      <td>279.657433</td>\n      <td>3369775</td>\n      <td>3305477</td>\n      <td>1.181974e+04</td>\n    </tr>\n    <tr>\n      <th>1</th>\n      <td>les_miserables_victor_hugo</td>\n      <td>TCP</td>\n      <td>394940</td>\n      <td>1024</td>\n      <td>12.084607</td>\n      <td>3369775</td>\n      <td>3305477</td>\n      <td>2.735279e+05</td>\n    </tr>\n    <tr>\n      <th>2</th>\n      <td>les_miserables_victor_hugo</td>\n      <td>TCP</td>\n      <td>394983</td>\n      <td>32768</td>\n      <td>0.568751</td>\n      <td>3369775</td>\n      <td>3305477</td>\n      <td>5.811814e+06</td>\n    </tr>\n    <tr>\n      <th>3</th>\n      <td>les_miserables_victor_hugo</td>\n      <td>TCP</td>\n      <td>394997</td>\n      <td>65536</td>\n      <td>0.358388</td>\n      <td>3369775</td>\n      <td>3305477</td>\n      <td>9.223187e+06</td>\n    </tr>\n    <tr>\n      <th>4</th>\n      <td>les_miserables_victor_hugo</td>\n      <td>UDP</td>\n      <td>393967</td>\n      <td>1024</td>\n      <td>0.185182</td>\n      <td>3369775</td>\n      <td>256242</td>\n      <td>1.383733e+06</td>\n    </tr>\n    <tr>\n      <th>5</th>\n      <td>les_miserables_victor_hugo</td>\n      <td>UDP</td>\n      <td>393984</td>\n      <td>32768</td>\n      <td>0.176988</td>\n      <td>3369775</td>\n      <td>453367</td>\n      <td>2.561564e+06</td>\n    </tr>\n    <tr>\n      <th>6</th>\n      <td>les_miserables_victor_hugo</td>\n      <td>UDP</td>\n      <td>393998</td>\n      <td>65536</td>\n      <td>0.171410</td>\n      <td>3369775</td>\n      <td>351010</td>\n      <td>2.047779e+06</td>\n    </tr>\n    <tr>\n      <th>7</th>\n      <td>les_miserables_victor_hugo</td>\n      <td>UDP</td>\n      <td>393955</td>\n      <td>32</td>\n      <td>0.165617</td>\n      <td>3369775</td>\n      <td>35974</td>\n      <td>2.172123e+05</td>\n    </tr>\n  </tbody>\n</table>\n</div>"
     },
     "metadata": {},
     "execution_count": 6
    }
   ],
   "source": [
    "result[result['Book_Name']=='les_miserables_victor_hugo'].sort_values(by=['Total_Time_Taken'],ascending=False,ignore_index=True)"
   ]
  },
  {
   "cell_type": "code",
   "execution_count": 20,
   "metadata": {},
   "outputs": [],
   "source": [
    "import pandas as pd\n",
    "\n",
    "df1=pd.read_json('tcp_results.json')\n",
    "df2=pd.read_json('udp_results_new.json')\n",
    "result =pd.concat([df1,df2],ignore_index=True)"
   ]
  },
  {
   "cell_type": "code",
   "execution_count": 16,
   "metadata": {},
   "outputs": [],
   "source": [
    "result_a=result[result['Book_Name']=='les_miserables_victor_hugo'].sort_values(by=['Total_Time_Taken'],ascending=False,ignore_index=True)\n",
    "result_a['Loss']=result_a['Original Size'] - result_a['Size_of_the_file_created']"
   ]
  },
  {
   "cell_type": "code",
   "execution_count": 17,
   "metadata": {},
   "outputs": [],
   "source": []
  },
  {
   "cell_type": "code",
   "execution_count": 19,
   "metadata": {},
   "outputs": [
    {
     "output_type": "execute_result",
     "data": {
      "text/plain": [
       "                    Book_Name Protocol     PID  Buffer_Size  Total_Time_Taken  \\\n",
       "4  les_miserables_victor_hugo      UDP  393967         1024          0.185182   \n",
       "5  les_miserables_victor_hugo      UDP  393984        32768          0.176988   \n",
       "6  les_miserables_victor_hugo      UDP  393998        65536          0.171410   \n",
       "7  les_miserables_victor_hugo      UDP  393955           32          0.165617   \n",
       "\n",
       "   Original Size  Size_of_the_file_created    Throughput     Loss  \n",
       "4        3369775                    256242  1.383733e+06  3113533  \n",
       "5        3369775                    453367  2.561564e+06  2916408  \n",
       "6        3369775                    351010  2.047779e+06  3018765  \n",
       "7        3369775                     35974  2.172123e+05  3333801  "
      ],
      "text/html": "<div>\n<style scoped>\n    .dataframe tbody tr th:only-of-type {\n        vertical-align: middle;\n    }\n\n    .dataframe tbody tr th {\n        vertical-align: top;\n    }\n\n    .dataframe thead th {\n        text-align: right;\n    }\n</style>\n<table border=\"1\" class=\"dataframe\">\n  <thead>\n    <tr style=\"text-align: right;\">\n      <th></th>\n      <th>Book_Name</th>\n      <th>Protocol</th>\n      <th>PID</th>\n      <th>Buffer_Size</th>\n      <th>Total_Time_Taken</th>\n      <th>Original Size</th>\n      <th>Size_of_the_file_created</th>\n      <th>Throughput</th>\n      <th>Loss</th>\n    </tr>\n  </thead>\n  <tbody>\n    <tr>\n      <th>4</th>\n      <td>les_miserables_victor_hugo</td>\n      <td>UDP</td>\n      <td>393967</td>\n      <td>1024</td>\n      <td>0.185182</td>\n      <td>3369775</td>\n      <td>256242</td>\n      <td>1.383733e+06</td>\n      <td>3113533</td>\n    </tr>\n    <tr>\n      <th>5</th>\n      <td>les_miserables_victor_hugo</td>\n      <td>UDP</td>\n      <td>393984</td>\n      <td>32768</td>\n      <td>0.176988</td>\n      <td>3369775</td>\n      <td>453367</td>\n      <td>2.561564e+06</td>\n      <td>2916408</td>\n    </tr>\n    <tr>\n      <th>6</th>\n      <td>les_miserables_victor_hugo</td>\n      <td>UDP</td>\n      <td>393998</td>\n      <td>65536</td>\n      <td>0.171410</td>\n      <td>3369775</td>\n      <td>351010</td>\n      <td>2.047779e+06</td>\n      <td>3018765</td>\n    </tr>\n    <tr>\n      <th>7</th>\n      <td>les_miserables_victor_hugo</td>\n      <td>UDP</td>\n      <td>393955</td>\n      <td>32</td>\n      <td>0.165617</td>\n      <td>3369775</td>\n      <td>35974</td>\n      <td>2.172123e+05</td>\n      <td>3333801</td>\n    </tr>\n  </tbody>\n</table>\n</div>"
     },
     "metadata": {},
     "execution_count": 19
    }
   ],
   "source": [
    "result_a[result_a['Protocol']==\"UDP\"]"
   ]
  },
  {
   "cell_type": "code",
   "execution_count": 21,
   "metadata": {},
   "outputs": [],
   "source": [
    "result_b=result[result['Book_Name']=='les_miserables_victor_hugo'].sort_values(by=['Total_Time_Taken'],ascending=False,ignore_index=True)\n",
    "result_b['Loss']=result_b['Original Size'] - result_b['Size_of_the_file_created']"
   ]
  },
  {
   "cell_type": "code",
   "execution_count": 28,
   "metadata": {},
   "outputs": [
    {
     "output_type": "execute_result",
     "data": {
      "text/plain": [
       "                    Book_Name Protocol     PID  Buffer_Size  Total_Time_Taken  \\\n",
       "2  les_miserables_victor_hugo      UDP  398613         1024          0.713253   \n",
       "3  les_miserables_victor_hugo      UDP  398627        32768          0.696025   \n",
       "4  les_miserables_victor_hugo      UDP  398594           32          0.680291   \n",
       "6  les_miserables_victor_hugo      UDP  398641        65536          0.566689   \n",
       "\n",
       "   Original Size  Size_of_the_file_created     Throughput     Loss  \n",
       "2        3369775                    272720  382361.061506  3097055  \n",
       "3        3369775                    273271  392616.838395  3096504  \n",
       "4        3369775                    177249  260548.818526  3192526  \n",
       "6        3369775                    252143  444940.313670  3117632  "
      ],
      "text/html": "<div>\n<style scoped>\n    .dataframe tbody tr th:only-of-type {\n        vertical-align: middle;\n    }\n\n    .dataframe tbody tr th {\n        vertical-align: top;\n    }\n\n    .dataframe thead th {\n        text-align: right;\n    }\n</style>\n<table border=\"1\" class=\"dataframe\">\n  <thead>\n    <tr style=\"text-align: right;\">\n      <th></th>\n      <th>Book_Name</th>\n      <th>Protocol</th>\n      <th>PID</th>\n      <th>Buffer_Size</th>\n      <th>Total_Time_Taken</th>\n      <th>Original Size</th>\n      <th>Size_of_the_file_created</th>\n      <th>Throughput</th>\n      <th>Loss</th>\n    </tr>\n  </thead>\n  <tbody>\n    <tr>\n      <th>2</th>\n      <td>les_miserables_victor_hugo</td>\n      <td>UDP</td>\n      <td>398613</td>\n      <td>1024</td>\n      <td>0.713253</td>\n      <td>3369775</td>\n      <td>272720</td>\n      <td>382361.061506</td>\n      <td>3097055</td>\n    </tr>\n    <tr>\n      <th>3</th>\n      <td>les_miserables_victor_hugo</td>\n      <td>UDP</td>\n      <td>398627</td>\n      <td>32768</td>\n      <td>0.696025</td>\n      <td>3369775</td>\n      <td>273271</td>\n      <td>392616.838395</td>\n      <td>3096504</td>\n    </tr>\n    <tr>\n      <th>4</th>\n      <td>les_miserables_victor_hugo</td>\n      <td>UDP</td>\n      <td>398594</td>\n      <td>32</td>\n      <td>0.680291</td>\n      <td>3369775</td>\n      <td>177249</td>\n      <td>260548.818526</td>\n      <td>3192526</td>\n    </tr>\n    <tr>\n      <th>6</th>\n      <td>les_miserables_victor_hugo</td>\n      <td>UDP</td>\n      <td>398641</td>\n      <td>65536</td>\n      <td>0.566689</td>\n      <td>3369775</td>\n      <td>252143</td>\n      <td>444940.313670</td>\n      <td>3117632</td>\n    </tr>\n  </tbody>\n</table>\n</div>"
     },
     "metadata": {},
     "execution_count": 28
    }
   ],
   "source": [
    "result_b[result_b['Protocol']=='UDP']"
   ]
  },
  {
   "cell_type": "code",
   "execution_count": null,
   "metadata": {},
   "outputs": [],
   "source": []
  }
 ]
}